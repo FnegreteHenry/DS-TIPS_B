{
 "cells": [
  {
   "cell_type": "code",
   "execution_count": null,
   "metadata": {},
   "outputs": [],
   "source": [
    "DROP DATABASE IF EXISTS tienda;\n",
    "CREATE DATABASE tienda CHARACTER SET utf8mb4;\n",
    "USE tienda;\n",
    "\n",
    "CREATE TABLE fabricante (\n",
    "  codigo INT UNSIGNED AUTO_INCREMENT PRIMARY KEY,\n",
    "  nombre VARCHAR(100) NOT NULL\n",
    ");\n",
    "\n",
    "CREATE TABLE producto (\n",
    "  codigo INT UNSIGNED AUTO_INCREMENT PRIMARY KEY,\n",
    "  nombre VARCHAR(100) NOT NULL,\n",
    "  precio DOUBLE NOT NULL,\n",
    "  codigo_fabricante INT UNSIGNED NOT NULL,\n",
    "  FOREIGN KEY (codigo_fabricante) REFERENCES fabricante(codigo)\n",
    ");\n",
    "\n",
    "INSERT INTO fabricante VALUES(1, 'Asus');\n",
    "INSERT INTO fabricante VALUES(2, 'Lenovo');\n",
    "INSERT INTO fabricante VALUES(3, 'Hewlett-Packard');\n",
    "INSERT INTO fabricante VALUES(4, 'Samsung');\n",
    "INSERT INTO fabricante VALUES(5, 'Seagate');\n",
    "INSERT INTO fabricante VALUES(6, 'Crucial');\n",
    "INSERT INTO fabricante VALUES(7, 'Gigabyte');\n",
    "INSERT INTO fabricante VALUES(8, 'Huawei');\n",
    "INSERT INTO fabricante VALUES(9, 'Xiaomi');\n",
    "\n",
    "INSERT INTO producto VALUES(1, 'Disco duro SATA3 1TB', 86.99, 5);\n",
    "INSERT INTO producto VALUES(2, 'Memoria RAM DDR4 8GB', 120, 6);\n",
    "INSERT INTO producto VALUES(3, 'Disco SSD 1 TB', 150.99, 4);\n",
    "INSERT INTO producto VALUES(4, 'GeForce GTX 1050Ti', 185, 7);\n",
    "INSERT INTO producto VALUES(5, 'GeForce GTX 1080 Xtreme', 755, 6);\n",
    "INSERT INTO producto VALUES(6, 'Monitor 24 LED Full HD', 202, 1);\n",
    "INSERT INTO producto VALUES(7, 'Monitor 27 LED Full HD', 245.99, 1);\n",
    "INSERT INTO producto VALUES(8, 'Portátil Yoga 520', 559, 2);\n",
    "INSERT INTO producto VALUES(9, 'Portátil Ideapd 320', 444, 2);\n",
    "INSERT INTO producto VALUES(10, 'Impresora HP Deskjet 3720', 59.99, 3);\n",
    "INSERT INTO producto VALUES(11, 'Impresora HP Laserjet Pro M26nw', 180, 3);"
   ]
  }
 ],
 "metadata": {
  "language_info": {
   "name": "python"
  },
  "orig_nbformat": 4
 },
 "nbformat": 4,
 "nbformat_minor": 2
}
